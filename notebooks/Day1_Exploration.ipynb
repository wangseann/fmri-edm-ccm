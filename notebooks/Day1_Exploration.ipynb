{
  "cells": [
    {
      "cell_type": "markdown",
      "metadata": {},
      "source": [
        "# Day 1 Exploration\n",
        "\n",
        "Notebook for quick inspection of ds003020 subject and story structure."
      ]
    },
    {
      "cell_type": "code",
      "execution_count": null,
      "metadata": {},
      "outputs": [],
      "source": [
        "%load_ext autoreload\n",
        "%autoreload 2\n",
        "import json\n",
        "from pathlib import Path\n",
        "import pandas as pd\n",
        "from src.io_ds003020 import list_subjects, list_stories_for_subject\n",
        "\n",
        "DATA_ROOT = Path('/bucket/PaoU/seann/openneuro/ds003020')\n"
      ]
    },
    {
      "cell_type": "code",
      "execution_count": null,
      "metadata": {},
      "outputs": [],
      "source": [
        "subjects = list_subjects(str(DATA_ROOT))\n",
        "len(subjects), subjects[:5]\n"
      ]
    },
    {
      "cell_type": "code",
      "execution_count": null,
      "metadata": {},
      "outputs": [],
      "source": [
        "preview = []\n",
        "for subject in subjects:\n",
        "    stories = list_stories_for_subject(str(DATA_ROOT), subject)\n",
        "    preview.append({'subject': subject, 'stories': len(stories)})\n",
        "pd.DataFrame(preview)\n"
      ]
    },
    {
      "cell_type": "code",
      "execution_count": null,
      "metadata": {},
      "outputs": [],
      "source": [
        "subject = subjects[0] if subjects else None\n",
        "stories = list_stories_for_subject(str(DATA_ROOT), subject) if subject else []\n",
        "stories[:3]\n"
      ]
    }
  ],
  "metadata": {
    "kernelspec": {
      "display_name": "Python 3",
      "language": "python",
      "name": "python3"
    },
    "language_info": {
      "name": "python",
      "version": "3.11"
    }
  },
  "nbformat": 4,
  "nbformat_minor": 5
}
